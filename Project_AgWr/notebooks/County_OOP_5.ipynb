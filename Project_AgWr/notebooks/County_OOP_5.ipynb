{
 "cells": [
  {
   "cell_type": "markdown",
   "metadata": {
    "colab_type": "text",
    "id": "PLdj2GunbRZg"
   },
   "source": [
    "This program creates a class `County_AgWr` that imports and models weather and agricultural data on the county level. This notebook focuses on Colorado, but with minimal user input it could examine weather and agricultural data throughout the U.S."
   ]
  },
  {
   "cell_type": "markdown",
   "metadata": {
    "colab_type": "text",
    "id": "i5VlhZEBNhBo"
   },
   "source": [
    "Instantiations of the class `County_AgWr` will have multiple `pandas.DataFrame`s self-referenced: \n",
    "*  `.wr` for weather.\n",
    "*  `.crops` for crops.\n",
    "*  `.models` for models and their statistics.\n",
    "\n",
    "There are specific methods for creating and analyzing these dataframes:\n",
    "*  `.add_weather()` scrapes, cleans, and concatenates weather data from the [Western Regional Climate Center](https://wrcc.dri.edu).\n",
    "*  `.add_crops()` imports, wrangles, and merges crop data already downloaded as CSVs from the[ National Agricultural Statistics Service](https://quickstats.nass.usda.gov/) of the USDA.\n",
    "*  `.crop_weather()` merges the crops yield data with weather data. Only those crops with more than 40 years of yield data are saved as a .csv and ready for X, y modeling.\n",
    "*  `.fit_models(thru_month_num)` fits regression models from the `.crop_weather` CSVs with X as weather data for the year through month number (\"thru_month_num\") of the year,  and y as crop yields. Only those models with r2 scores > 0.02 are saved to `.models`.\n",
    "*  `.fit_all_models()` cycles through the possible months to choose (April to October) and saves all models with r2 scores > 0.02 to `.models`.\n",
    "\n"
   ]
  },
  {
   "cell_type": "code",
   "execution_count": 1,
   "metadata": {
    "colab": {},
    "colab_type": "code",
    "id": "U25IVwt64yFV"
   },
   "outputs": [
    {
     "ename": "ModuleNotFoundError",
     "evalue": "No module named 'matplotlib'",
     "output_type": "error",
     "traceback": [
      "\u001b[0;31m---------------------------------------------------------------------------\u001b[0m",
      "\u001b[0;31mModuleNotFoundError\u001b[0m                       Traceback (most recent call last)",
      "\u001b[0;32m<ipython-input-1-16b0bfa8334d>\u001b[0m in \u001b[0;36m<module>\u001b[0;34m\u001b[0m\n\u001b[0;32m----> 1\u001b[0;31m \u001b[0mget_ipython\u001b[0m\u001b[0;34m(\u001b[0m\u001b[0;34m)\u001b[0m\u001b[0;34m.\u001b[0m\u001b[0mrun_line_magic\u001b[0m\u001b[0;34m(\u001b[0m\u001b[0;34m'matplotlib'\u001b[0m\u001b[0;34m,\u001b[0m \u001b[0;34m'inline'\u001b[0m\u001b[0;34m)\u001b[0m\u001b[0;34m\u001b[0m\u001b[0;34m\u001b[0m\u001b[0m\n\u001b[0m\u001b[1;32m      2\u001b[0m \u001b[0;32mimport\u001b[0m \u001b[0mnumpy\u001b[0m \u001b[0;32mas\u001b[0m \u001b[0mnp\u001b[0m\u001b[0;34m\u001b[0m\u001b[0;34m\u001b[0m\u001b[0m\n\u001b[1;32m      3\u001b[0m \u001b[0;32mimport\u001b[0m \u001b[0mpandas\u001b[0m \u001b[0;32mas\u001b[0m \u001b[0mpd\u001b[0m\u001b[0;34m\u001b[0m\u001b[0;34m\u001b[0m\u001b[0m\n\u001b[1;32m      4\u001b[0m \u001b[0;32mimport\u001b[0m \u001b[0mmatplotlib\u001b[0m\u001b[0;34m.\u001b[0m\u001b[0mpyplot\u001b[0m \u001b[0;32mas\u001b[0m \u001b[0mplt\u001b[0m\u001b[0;34m\u001b[0m\u001b[0;34m\u001b[0m\u001b[0m\n\u001b[1;32m      5\u001b[0m \u001b[0;32mfrom\u001b[0m \u001b[0mdatetime\u001b[0m \u001b[0;32mimport\u001b[0m \u001b[0mdatetime\u001b[0m\u001b[0;34m\u001b[0m\u001b[0;34m\u001b[0m\u001b[0m\n",
      "\u001b[0;32m~/PycharmProjects/Project_AgWr/venv/lib/python3.8/site-packages/IPython/core/interactiveshell.py\u001b[0m in \u001b[0;36mrun_line_magic\u001b[0;34m(self, magic_name, line, _stack_depth)\u001b[0m\n\u001b[1;32m   2324\u001b[0m                 \u001b[0mkwargs\u001b[0m\u001b[0;34m[\u001b[0m\u001b[0;34m'local_ns'\u001b[0m\u001b[0;34m]\u001b[0m \u001b[0;34m=\u001b[0m \u001b[0mself\u001b[0m\u001b[0;34m.\u001b[0m\u001b[0mget_local_scope\u001b[0m\u001b[0;34m(\u001b[0m\u001b[0mstack_depth\u001b[0m\u001b[0;34m)\u001b[0m\u001b[0;34m\u001b[0m\u001b[0;34m\u001b[0m\u001b[0m\n\u001b[1;32m   2325\u001b[0m             \u001b[0;32mwith\u001b[0m \u001b[0mself\u001b[0m\u001b[0;34m.\u001b[0m\u001b[0mbuiltin_trap\u001b[0m\u001b[0;34m:\u001b[0m\u001b[0;34m\u001b[0m\u001b[0;34m\u001b[0m\u001b[0m\n\u001b[0;32m-> 2326\u001b[0;31m                 \u001b[0mresult\u001b[0m \u001b[0;34m=\u001b[0m \u001b[0mfn\u001b[0m\u001b[0;34m(\u001b[0m\u001b[0;34m*\u001b[0m\u001b[0margs\u001b[0m\u001b[0;34m,\u001b[0m \u001b[0;34m**\u001b[0m\u001b[0mkwargs\u001b[0m\u001b[0;34m)\u001b[0m\u001b[0;34m\u001b[0m\u001b[0;34m\u001b[0m\u001b[0m\n\u001b[0m\u001b[1;32m   2327\u001b[0m             \u001b[0;32mreturn\u001b[0m \u001b[0mresult\u001b[0m\u001b[0;34m\u001b[0m\u001b[0;34m\u001b[0m\u001b[0m\n\u001b[1;32m   2328\u001b[0m \u001b[0;34m\u001b[0m\u001b[0m\n",
      "\u001b[0;32m<decorator-gen-108>\u001b[0m in \u001b[0;36mmatplotlib\u001b[0;34m(self, line)\u001b[0m\n",
      "\u001b[0;32m~/PycharmProjects/Project_AgWr/venv/lib/python3.8/site-packages/IPython/core/magic.py\u001b[0m in \u001b[0;36m<lambda>\u001b[0;34m(f, *a, **k)\u001b[0m\n\u001b[1;32m    185\u001b[0m     \u001b[0;31m# but it's overkill for just that one bit of state.\u001b[0m\u001b[0;34m\u001b[0m\u001b[0;34m\u001b[0m\u001b[0;34m\u001b[0m\u001b[0m\n\u001b[1;32m    186\u001b[0m     \u001b[0;32mdef\u001b[0m \u001b[0mmagic_deco\u001b[0m\u001b[0;34m(\u001b[0m\u001b[0marg\u001b[0m\u001b[0;34m)\u001b[0m\u001b[0;34m:\u001b[0m\u001b[0;34m\u001b[0m\u001b[0;34m\u001b[0m\u001b[0m\n\u001b[0;32m--> 187\u001b[0;31m         \u001b[0mcall\u001b[0m \u001b[0;34m=\u001b[0m \u001b[0;32mlambda\u001b[0m \u001b[0mf\u001b[0m\u001b[0;34m,\u001b[0m \u001b[0;34m*\u001b[0m\u001b[0ma\u001b[0m\u001b[0;34m,\u001b[0m \u001b[0;34m**\u001b[0m\u001b[0mk\u001b[0m\u001b[0;34m:\u001b[0m \u001b[0mf\u001b[0m\u001b[0;34m(\u001b[0m\u001b[0;34m*\u001b[0m\u001b[0ma\u001b[0m\u001b[0;34m,\u001b[0m \u001b[0;34m**\u001b[0m\u001b[0mk\u001b[0m\u001b[0;34m)\u001b[0m\u001b[0;34m\u001b[0m\u001b[0;34m\u001b[0m\u001b[0m\n\u001b[0m\u001b[1;32m    188\u001b[0m \u001b[0;34m\u001b[0m\u001b[0m\n\u001b[1;32m    189\u001b[0m         \u001b[0;32mif\u001b[0m \u001b[0mcallable\u001b[0m\u001b[0;34m(\u001b[0m\u001b[0marg\u001b[0m\u001b[0;34m)\u001b[0m\u001b[0;34m:\u001b[0m\u001b[0;34m\u001b[0m\u001b[0;34m\u001b[0m\u001b[0m\n",
      "\u001b[0;32m~/PycharmProjects/Project_AgWr/venv/lib/python3.8/site-packages/IPython/core/magics/pylab.py\u001b[0m in \u001b[0;36mmatplotlib\u001b[0;34m(self, line)\u001b[0m\n\u001b[1;32m     97\u001b[0m             \u001b[0mprint\u001b[0m\u001b[0;34m(\u001b[0m\u001b[0;34m\"Available matplotlib backends: %s\"\u001b[0m \u001b[0;34m%\u001b[0m \u001b[0mbackends_list\u001b[0m\u001b[0;34m)\u001b[0m\u001b[0;34m\u001b[0m\u001b[0;34m\u001b[0m\u001b[0m\n\u001b[1;32m     98\u001b[0m         \u001b[0;32melse\u001b[0m\u001b[0;34m:\u001b[0m\u001b[0;34m\u001b[0m\u001b[0;34m\u001b[0m\u001b[0m\n\u001b[0;32m---> 99\u001b[0;31m             \u001b[0mgui\u001b[0m\u001b[0;34m,\u001b[0m \u001b[0mbackend\u001b[0m \u001b[0;34m=\u001b[0m \u001b[0mself\u001b[0m\u001b[0;34m.\u001b[0m\u001b[0mshell\u001b[0m\u001b[0;34m.\u001b[0m\u001b[0menable_matplotlib\u001b[0m\u001b[0;34m(\u001b[0m\u001b[0margs\u001b[0m\u001b[0;34m.\u001b[0m\u001b[0mgui\u001b[0m\u001b[0;34m.\u001b[0m\u001b[0mlower\u001b[0m\u001b[0;34m(\u001b[0m\u001b[0;34m)\u001b[0m \u001b[0;32mif\u001b[0m \u001b[0misinstance\u001b[0m\u001b[0;34m(\u001b[0m\u001b[0margs\u001b[0m\u001b[0;34m.\u001b[0m\u001b[0mgui\u001b[0m\u001b[0;34m,\u001b[0m \u001b[0mstr\u001b[0m\u001b[0;34m)\u001b[0m \u001b[0;32melse\u001b[0m \u001b[0margs\u001b[0m\u001b[0;34m.\u001b[0m\u001b[0mgui\u001b[0m\u001b[0;34m)\u001b[0m\u001b[0;34m\u001b[0m\u001b[0;34m\u001b[0m\u001b[0m\n\u001b[0m\u001b[1;32m    100\u001b[0m             \u001b[0mself\u001b[0m\u001b[0;34m.\u001b[0m\u001b[0m_show_matplotlib_backend\u001b[0m\u001b[0;34m(\u001b[0m\u001b[0margs\u001b[0m\u001b[0;34m.\u001b[0m\u001b[0mgui\u001b[0m\u001b[0;34m,\u001b[0m \u001b[0mbackend\u001b[0m\u001b[0;34m)\u001b[0m\u001b[0;34m\u001b[0m\u001b[0;34m\u001b[0m\u001b[0m\n\u001b[1;32m    101\u001b[0m \u001b[0;34m\u001b[0m\u001b[0m\n",
      "\u001b[0;32m~/PycharmProjects/Project_AgWr/venv/lib/python3.8/site-packages/IPython/core/interactiveshell.py\u001b[0m in \u001b[0;36menable_matplotlib\u001b[0;34m(self, gui)\u001b[0m\n\u001b[1;32m   3491\u001b[0m         \"\"\"\n\u001b[1;32m   3492\u001b[0m         \u001b[0;32mfrom\u001b[0m \u001b[0mIPython\u001b[0m\u001b[0;34m.\u001b[0m\u001b[0mcore\u001b[0m \u001b[0;32mimport\u001b[0m \u001b[0mpylabtools\u001b[0m \u001b[0;32mas\u001b[0m \u001b[0mpt\u001b[0m\u001b[0;34m\u001b[0m\u001b[0;34m\u001b[0m\u001b[0m\n\u001b[0;32m-> 3493\u001b[0;31m         \u001b[0mgui\u001b[0m\u001b[0;34m,\u001b[0m \u001b[0mbackend\u001b[0m \u001b[0;34m=\u001b[0m \u001b[0mpt\u001b[0m\u001b[0;34m.\u001b[0m\u001b[0mfind_gui_and_backend\u001b[0m\u001b[0;34m(\u001b[0m\u001b[0mgui\u001b[0m\u001b[0;34m,\u001b[0m \u001b[0mself\u001b[0m\u001b[0;34m.\u001b[0m\u001b[0mpylab_gui_select\u001b[0m\u001b[0;34m)\u001b[0m\u001b[0;34m\u001b[0m\u001b[0;34m\u001b[0m\u001b[0m\n\u001b[0m\u001b[1;32m   3494\u001b[0m \u001b[0;34m\u001b[0m\u001b[0m\n\u001b[1;32m   3495\u001b[0m         \u001b[0;32mif\u001b[0m \u001b[0mgui\u001b[0m \u001b[0;34m!=\u001b[0m \u001b[0;34m'inline'\u001b[0m\u001b[0;34m:\u001b[0m\u001b[0;34m\u001b[0m\u001b[0;34m\u001b[0m\u001b[0m\n",
      "\u001b[0;32m~/PycharmProjects/Project_AgWr/venv/lib/python3.8/site-packages/IPython/core/pylabtools.py\u001b[0m in \u001b[0;36mfind_gui_and_backend\u001b[0;34m(gui, gui_select)\u001b[0m\n\u001b[1;32m    278\u001b[0m     \"\"\"\n\u001b[1;32m    279\u001b[0m \u001b[0;34m\u001b[0m\u001b[0m\n\u001b[0;32m--> 280\u001b[0;31m     \u001b[0;32mimport\u001b[0m \u001b[0mmatplotlib\u001b[0m\u001b[0;34m\u001b[0m\u001b[0;34m\u001b[0m\u001b[0m\n\u001b[0m\u001b[1;32m    281\u001b[0m \u001b[0;34m\u001b[0m\u001b[0m\n\u001b[1;32m    282\u001b[0m     \u001b[0;32mif\u001b[0m \u001b[0mgui\u001b[0m \u001b[0;32mand\u001b[0m \u001b[0mgui\u001b[0m \u001b[0;34m!=\u001b[0m \u001b[0;34m'auto'\u001b[0m\u001b[0;34m:\u001b[0m\u001b[0;34m\u001b[0m\u001b[0;34m\u001b[0m\u001b[0m\n",
      "\u001b[0;31mModuleNotFoundError\u001b[0m: No module named 'matplotlib'"
     ]
    }
   ],
   "source": [
    "%matplotlib inline\n",
    "import numpy as np\n",
    "import pandas as pd\n",
    "import matplotlib.pyplot as plt\n",
    "from datetime import datetime\n",
    "import requests\n",
    "import urllib.request\n",
    "from bs4 import BeautifulSoup\n",
    "import re\n",
    "import time\n",
    "import os\n",
    "import pickle\n",
    "from google.colab import drive\n",
    "from sklearn.ensemble import RandomForestRegressor, GradientBoostingRegressor\n",
    "from sklearn.linear_model import (LinearRegression, Ridge, RidgeCV, Lasso, \n",
    "                                  ElasticNet, ElasticNetCV, BayesianRidge)\n",
    "from sklearn.tree import DecisionTreeRegressor\n",
    "from sklearn.svm import SVR\n",
    "from sklearn.model_selection import train_test_split\n",
    "from sklearn.metrics import mean_squared_error, r2_score\n",
    "\n",
    "plt.style.use('seaborn-whitegrid')"
   ]
  },
  {
   "cell_type": "code",
   "execution_count": null,
   "metadata": {
    "colab": {},
    "colab_type": "code",
    "id": "hU2dpbA24xIj"
   },
   "outputs": [],
   "source": [
    "class County_AgWr:\n",
    "    \"\"\"County instance to join crop and weather data and predict n years forward.\"\"\"\n",
    "    def __init__(self, name):\n",
    "        self.name = name\n",
    "        self.wr = pd.DataFrame\n",
    "        self.crops = pd.DataFrame\n",
    "        self.models = pd.DataFrame(columns=['crop', 'thru_month', 'model', \n",
    "                                            'r2_score', 'rmse'])\n",
    "        self.crop_doc_count = 0\n",
    "\n",
    "    def add_weather(self):\n",
    "        if os.path.exists(file_path + f'/Data/raw/{self.name}_wr.csv'):\n",
    "            wr_cat = pd.read_csv(file_path + f'/Data/raw/{self.name}_wr.csv', index_col='Year')\n",
    "        else:\n",
    "            counties = pd.read_csv(file_path + '/Data/raw/counties_ag.csv', index_col=[0])\n",
    "            counties['Station ID'] = counties['Station ID'].astype(int)\n",
    "            county = counties[counties['County'] == self.name]\n",
    "            id = county.iloc[0, 2]\n",
    "            urls = {'-p':f'https://wrcc.dri.edu/WRCCWrappers.py?sodxtrmts+0{id}+por+por+pcpn+none+msum+5+01+F',\n",
    "                    '-txa':f'https://wrcc.dri.edu/WRCCWrappers.py?sodxtrmts+0{id}+por+por+maxt+none+mave+5+01+F',\n",
    "                    '-taa':f'https://wrcc.dri.edu/WRCCWrappers.py?sodxtrmts+0{id}+por+por+avgt+none+mave+5+01+F',\n",
    "                    '-tna':f'https://wrcc.dri.edu/WRCCWrappers.py?sodxtrmts+0{id}+por+por+mint+none+mave+5+01+F',\n",
    "                    '-txm':f'https://wrcc.dri.edu/WRCCWrappers.py?sodxtrmts+0{id}+por+por+maxt+none+mmax+5+01+F',\n",
    "                    '-tnm':f'https://wrcc.dri.edu/WRCCWrappers.py?sodxtrmts+0{id}+por+por+mint+none+mmin+5+01+F'\n",
    "                    }   ## listed out, as the string formatting seemed to get lost in the pd.read_csv function.\n",
    "            wr_cat = pd.DataFrame()\n",
    "            for key, value in urls.items():\n",
    "                id = county.iloc[0, 2]\n",
    "                result = requests.get(value)\n",
    "                soup = BeautifulSoup(result.text, 'html.parser')\n",
    "                table = soup.find('table')\n",
    "                data = pd.read_html(str(table))\n",
    "                df = data[0]\n",
    "                df.columns = df.iloc[0]\n",
    "                df = df.drop([0])\n",
    "                df = df.iloc[-68:-8, :]\n",
    "                df = df.rename(columns={'YEAR(S)':'Year'})\n",
    "                df['Year'] = pd.to_datetime(df['Year'], format='%Y')\n",
    "                df = df.set_index('Year')\n",
    "                df = df.dropna(axis=1)\n",
    "                df = df.replace(to_replace='-----', value=np.nan)\n",
    "                df = df.astype('float64')\n",
    "                df = df.fillna(df.mean().round(2))\n",
    "                cols_to_drop = ['NOV', 'DEC', 'ANN']\n",
    "                df.drop(columns=cols_to_drop, inplace=True)\n",
    "                df = df.add_suffix(key)\n",
    "                wr_cat = pd.concat([wr_cat, df], axis=1)\n",
    "                print(f'Weather data from {self.name.title()} County saved.')\n",
    "                time.sleep(1.7)\n",
    "            wr_cat.to_csv(file_path + f'/Data/raw/{self.name}_wr.csv')\n",
    "        self.wr = wr_cat\n",
    "        print(f'Weather added to `{self.name.lower()}.wr`')\n",
    "    \n",
    "    def add_crops(self):\n",
    "        \"\"\"Imports and cleans up ag-survey CSV files.\"\"\"\n",
    "        crops = ['corn', 'barley', 'beans', 'oats', 'potatoes', 'sorghum', \n",
    "                 'sunflowers', 'wheat']\n",
    "        for crop in crops:\n",
    "            df = pd.read_csv(file_path + f'/Data/raw/{crop}_colo.csv')\n",
    "            col_to_drop = ['Program', 'Period', 'Week Ending', 'Geo Level', 'State', \n",
    "                            'State ANSI', 'Zip Code', 'watershed_code', \n",
    "                            'Watershed', 'Data Item', 'Domain', 'Domain Category', \n",
    "                            'Region', 'CV (%)']\n",
    "            df.drop(col_to_drop, axis=1, inplace=True)\n",
    "            df = df[(df['Value'] != ' (D)')&(df['Value'] != ' (Z)')]\n",
    "            df.replace(to_replace=r',', value='', regex=True, inplace=True)\n",
    "            df['Value'] = df['Value'].astype('int')\n",
    "            df.rename(columns={'Value':f'Yield_{crop}'}, inplace=True)\n",
    "            df['Year'] = pd.to_datetime(df['Year'], format='%Y')\n",
    "            df = df[df['County'] == self.name]\n",
    "            df2 = df.iloc[:, [0,3,-1]]\n",
    "            if self.crop_doc_count == 0:\n",
    "                self.crops = df2\n",
    "            else:\n",
    "                self.crops = pd.merge(left=self.crops, right=df2, \n",
    "                                            how='left', on=['Year', 'County'])\n",
    "            self.crop_doc_count += 1\n",
    "            print(f'{self.name.title()} County grows {crop}.')\n",
    "        self.crops.set_index('Year', inplace=True)\n",
    "        print(f'Crops added to `{self.name.lower()}.crops`')\n",
    "\n",
    "    def crop_weather(self):\n",
    "        \"\"\"Combines weather df with crop yields with >40 non-null values.\"\"\"\n",
    "        crops = ['corn', 'barley', 'beans', 'oats', 'potatoes', 'sorghum', \n",
    "                 'sunflowers', 'wheat']\n",
    "        for crop in crops:\n",
    "            cp_y = self.crops[f'Yield_{crop}'].dropna()\n",
    "            df = pd.merge(left=cp_y, right=self.wr, \n",
    "                          how='left', left_index=True, right_index=True)\n",
    "            if len(df) < 40:\n",
    "                continue\n",
    "            else:\n",
    "                df2 = df\n",
    "                df2.to_csv(file_path + f'/Data/inter/{self.name}_{crop}.csv')\n",
    "                print(f'{self.name}_{crop}  ' + str(df2.shape))\n",
    "\n",
    "    def fit_models(self, thru_month_num=(datetime.now().month - 1)):\n",
    "        \"\"\"Takes crop_weather outputs through month (chosen by thru_month_num) \n",
    "        and fits regression models. Saves those models with r2 scores > 0.1.\"\"\"\n",
    "        regressors = [LinearRegression(), Ridge(), RidgeCV(), Lasso(),\n",
    "              ElasticNet(), BayesianRidge(), RandomForestRegressor(), \n",
    "              GradientBoostingRegressor(), DecisionTreeRegressor(), SVR()]\n",
    "        crops = ['corn', 'barley', 'beans', 'oats', 'potatoes', 'sorghum', \n",
    "                 'sunflowers', 'wheat']\n",
    "        for crop in crops:\n",
    "            if os.path.exists(file_path + f'/Data/inter/{self.name}_{crop}.csv'):\n",
    "                df = pd.read_csv(file_path + f'/Data/inter/{self.name}_{crop}.csv', index_col='Year')\n",
    "                suffixes = ['-p', '-txa', '-taa', '-tna', '-txm', '-tnm']\n",
    "                col_2_drop = {4:['MAY', 'JUN', 'JUL', 'AUG', 'SEP', 'OCT'],\n",
    "                            5:['JUN', 'JUL', 'AUG', 'SEP', 'OCT'],\n",
    "                            6:['JUL', 'AUG', 'SEP', 'OCT'],\n",
    "                            7:['AUG', 'SEP', 'OCT'],\n",
    "                            8:['SEP', 'OCT'],\n",
    "                            9:['OCT'],\n",
    "                            10:[]}\n",
    "                col_d = col_2_drop[thru_month_num]\n",
    "                for col in col_d:\n",
    "                    for suf in suffixes:\n",
    "                        cs = col + suf\n",
    "                        df.drop(columns=cs, axis=1, inplace=True)\n",
    "                X = df.iloc[:, 1:]\n",
    "                y = df.iloc[:, 0]\n",
    "                X_train, X_test, y_train, y_test = train_test_split(X, y, test_size=0.2, random_state=314)\n",
    "                print(f'{crop} modeled...')\n",
    "                for reg in regressors:\n",
    "                    reg.fit(X_train, y_train) \n",
    "                    name = re.split(\"[(]\", str(reg))[0]\n",
    "                    y_pred = reg.predict(X_test)\n",
    "                    rmse = np.sqrt(mean_squared_error(y_test, y_pred)).round(2)\n",
    "                    r2 = r2_score(y_test, y_pred).round(3)\n",
    "                    # print(f'{crop} {name} modeled.')\n",
    "                    if r2 > 0.02:\n",
    "                        new_row = {'crop':crop, 'thru_month':thru_month_num, 'model':name, 'r2_score':r2,\n",
    "                                    'rmse':rmse}\n",
    "                        self.models = self.models.append(new_row, ignore_index=True)\n",
    "                    else:\n",
    "                        continue\n",
    "            else:\n",
    "                continue\n",
    "        print('Fit_models finished.')\n",
    "    \n",
    "    def fit_all_models(self):\n",
    "        for i in range(4, 11):\n",
    "            self.fit_models(thru_month_num=i)\n",
    "        self.models.to_csv(file_path + f'/Data/proc/{self.name}_model_list.csv')\n",
    "        print('April through October models finished.')\n"
   ]
  },
  {
   "cell_type": "code",
   "execution_count": null,
   "metadata": {
    "colab": {},
    "colab_type": "code",
    "id": "NdTD2W9DqNzF"
   },
   "outputs": [],
   "source": [
    "drive.mount('/content/drive')\n",
    "file_path = '/content/drive/My Drive/Data Science Certificate Program - May 2020/Students/Capstone/Chris'"
   ]
  },
  {
   "cell_type": "markdown",
   "metadata": {
    "colab_type": "text",
    "id": "4OqSFm1C-GSk"
   },
   "source": [
    "To start, we need to choose a county as a capitalized string as an argument to `County_AgWr('NAME')`:"
   ]
  },
  {
   "cell_type": "code",
   "execution_count": null,
   "metadata": {
    "colab": {},
    "colab_type": "code",
    "id": "vJ-cbkl19BVD"
   },
   "outputs": [],
   "source": [
    "counties = pd.read_csv(file_path + '/Data/raw/counties_ag.csv')\n",
    "choose_county = list(counties['County'])\n",
    "choose_county"
   ]
  },
  {
   "cell_type": "code",
   "execution_count": null,
   "metadata": {
    "colab": {},
    "colab_type": "code",
    "id": "lMTUcqdHJlV0"
   },
   "outputs": [],
   "source": [
    "os.listdir(file_path + '/Data/proc')"
   ]
  },
  {
   "cell_type": "code",
   "execution_count": null,
   "metadata": {
    "colab": {},
    "colab_type": "code",
    "id": "QvTl2R_cGGK8"
   },
   "outputs": [],
   "source": [
    "boulder = County_AgWr('BOULDER')\n",
    "boulder.name"
   ]
  },
  {
   "cell_type": "code",
   "execution_count": null,
   "metadata": {
    "colab": {},
    "colab_type": "code",
    "id": "w-_AihXyHS6X"
   },
   "outputs": [],
   "source": [
    "boulder.add_weather()"
   ]
  },
  {
   "cell_type": "code",
   "execution_count": null,
   "metadata": {
    "colab": {},
    "colab_type": "code",
    "id": "LaUKU-Sot1VT"
   },
   "outputs": [],
   "source": [
    "boulder.wr.head()"
   ]
  },
  {
   "cell_type": "code",
   "execution_count": null,
   "metadata": {
    "colab": {},
    "colab_type": "code",
    "id": "j3WiohWDzAhi"
   },
   "outputs": [],
   "source": [
    "boulder.add_crops()"
   ]
  },
  {
   "cell_type": "code",
   "execution_count": null,
   "metadata": {
    "colab": {},
    "colab_type": "code",
    "id": "KAudanFYyojb"
   },
   "outputs": [],
   "source": [
    "boulder.crops.head()"
   ]
  },
  {
   "cell_type": "code",
   "execution_count": null,
   "metadata": {
    "colab": {},
    "colab_type": "code",
    "id": "5nkz39QzgALp"
   },
   "outputs": [],
   "source": [
    "boulder.crop_weather()"
   ]
  },
  {
   "cell_type": "code",
   "execution_count": null,
   "metadata": {
    "colab": {},
    "colab_type": "code",
    "id": "vYk3D6G2Wh55"
   },
   "outputs": [],
   "source": [
    "boulder.fit_all_models()"
   ]
  },
  {
   "cell_type": "code",
   "execution_count": null,
   "metadata": {
    "colab": {},
    "colab_type": "code",
    "id": "G2zDzaC-13Sm"
   },
   "outputs": [],
   "source": [
    "boulder.models"
   ]
  },
  {
   "cell_type": "code",
   "execution_count": null,
   "metadata": {
    "colab": {},
    "colab_type": "code",
    "id": "hf_cJAD9ACiZ"
   },
   "outputs": [],
   "source": [
    "os.listdir(file_path + '/Data/proc')"
   ]
  },
  {
   "cell_type": "code",
   "execution_count": null,
   "metadata": {
    "colab": {},
    "colab_type": "code",
    "id": "i4CH17D9gBi_"
   },
   "outputs": [],
   "source": [
    "os.listdir(file_path + '/Data/inter')"
   ]
  }
 ],
 "metadata": {
  "colab": {
   "authorship_tag": "ABX9TyNHvix8wy9TqnwVm7R5122b",
   "collapsed_sections": [],
   "name": "County_OOP_5.ipynb",
   "provenance": [
    {
     "file_id": "12r3lNebTfoWpO7yd24ZW7JNYxjz_Db7V",
     "timestamp": 1597701878475
    },
    {
     "file_id": "1t64jeopzDpTSkw_RySHb8KcMEkQ9IOvI",
     "timestamp": 1597594074874
    },
    {
     "file_id": "1FvrSD0ziqY3YU-MSQ4nzQgNKqaf7hdOI",
     "timestamp": 1597270704440
    },
    {
     "file_id": "1G5uIA-ss0fizT-nqSQkByZCt3M_jDPOH",
     "timestamp": 1597213164067
    },
    {
     "file_id": "1KfTGYocuGMRMKiuTqpXfmqujlNo0bBjF",
     "timestamp": 1597194146016
    },
    {
     "file_id": "1CNoWrY632oHQGw6b9EiOEdfRj0o1Ui3G",
     "timestamp": 1597121523526
    }
   ]
  },
  "kernelspec": {
   "display_name": "Python 3",
   "language": "python",
   "name": "python3"
  },
  "language_info": {
   "codemirror_mode": {
    "name": "ipython",
    "version": 3
   },
   "file_extension": ".py",
   "mimetype": "text/x-python",
   "name": "python",
   "nbconvert_exporter": "python",
   "pygments_lexer": "ipython3",
   "version": "3.8.3"
  }
 },
 "nbformat": 4,
 "nbformat_minor": 1
}
